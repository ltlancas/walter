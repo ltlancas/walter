{
 "cells": [
  {
   "cell_type": "markdown",
   "metadata": {},
   "source": [
    "# $\\left\\langle L_{B,\\tau, Z}\\right\\rangle$ Calculation"
   ]
  },
  {
   "cell_type": "markdown",
   "metadata": {},
   "source": [
    "Here we want to provide the code to calculate $\\left\\langle L_{B,\\tau, Z}\\right\\rangle$ for a given set of isochrones. Since this can be an expensive task, we're going to use Cython to speed up some parts of the code. Much of this notebook is identical to the notebook which calculates $f_{\\rm det}$."
   ]
  },
  {
   "cell_type": "code",
   "execution_count": 1,
   "metadata": {},
   "outputs": [],
   "source": [
    "import numpy as np\n",
    "import matplotlib.pyplot as plt\n",
    "import time\n",
    "%load_ext Cython"
   ]
  },
  {
   "cell_type": "code",
   "execution_count": 2,
   "metadata": {},
   "outputs": [],
   "source": [
    "## a function for evaluating the IMF\n",
    "def xi_IMF(ms,mpows,mcuts):\n",
    "    res = np.zeros(ms.shape)\n",
    "    (normx,normy) = (1.0,1.0)\n",
    "    cuti = 0\n",
    "    nms = len(ms)\n",
    "    for i in range(nms):\n",
    "        res[i] = normy*((ms[i]/normx)**mpows[cuti])\n",
    "        if (i!=nms-1) and (ms[i+1]>mcuts[cuti+1]):\n",
    "            normx = ms[i]\n",
    "            normy = res[i]\n",
    "            cuti +=1\n",
    "    return res\n",
    "\n",
    "## a function for calculating the IMF normalization\n",
    "def norm_IMF(mpows,mcuts):\n",
    "    res = 0\n",
    "    (normx,normy) = (1.0,1.0)\n",
    "    nmcs = len(mcuts)\n",
    "    for i in range(nmcs-1):\n",
    "        res += normy*(mcuts[i+1]**(mpows[i]+1) - mcuts[i]**(mpows[i]+1))/((normx**mpows[i])*(mpows[i]+1))\n",
    "        normy = normy*((mcuts[i+1]/normx)**mpows[i])\n",
    "        normx = mcuts[i+1]\n",
    "    return res"
   ]
  },
  {
   "cell_type": "code",
   "execution_count": 3,
   "metadata": {},
   "outputs": [],
   "source": [
    "# First specify the properties of the populations you'd like to calculate f_detect for\n",
    "# by giving lists of metallicities and ages. These should be linearly spaced (in the log \n",
    "# space in which they are defined)\n",
    "metlist = np.array([0.5,0.25,0.0,-0.25,-0.5,-0.75,-1.0,-1.25,-1.5,-1.75,-2.0,-2.25,-2.5,-2.75,-3.,-3.25])\n",
    "agelist = np.array([8.95,9.,9.05,9.1,9.15,9.2,9.25,9.3,9.35,9.4,9.45,9.5,9.55,9.6,9.65,9.7,9.75,9.8,9.85,9.9,9.95,10.,10.05,10.1])\n",
    "nmet = len(metlist) # number of metallicities\n",
    "nage = len(agelist) # number of ages\n",
    "dage = agelist[1] - agelist[0] # logarithmic difference in age bins, for selection below\n",
    "\n",
    "## specify directory where isochrones are stored, this is set up for the \n",
    "## MIST Roman Isocrones, changing that would involve changing the below\n",
    "iso_dir = \"../../mist_isos/\"\n",
    "## name od output file\n",
    "output_name = \"../data/lum_mist\" # it will have a .npy at the end\n",
    "\n",
    "## define the IMF normalization\n",
    "## specify the power-law indices for the IMF that you would like to use\n",
    "## here we define a Kroupa IMF\n",
    "mpows = [-1.3,-2.3]\n",
    "mcuts = [0.08,0.5,120]\n",
    "assert(len(mpows)+1==len(mcuts))\n",
    "## specify the number of mass samples you would like for integrals of the IMF\n",
    "nmass_samp = 100000\n",
    "# mass range in solar masses\n",
    "(mMin,mMax) = (mcuts[0],mcuts[-1])\n",
    "# masses spaced linearly throughout imf space\n",
    "mlin = np.linspace(mMin,mMax,nmass_samp)\n",
    "# evaluate IMF\n",
    "xi = xi_IMF(mlin,mpows,mcuts)\n",
    "# the IMF normalization over the mass range of interest\n",
    "xim_norm = norm_IMF(mpows,mcuts)\n",
    "xi = xi/xim_norm\n",
    "\n",
    "# specify the number of filters. The default is 7 (R,Z,Y,J,W,H,F). Changing this \n",
    "# number will require some hard code changes below\n",
    "nfilts = 7\n",
    "# conversion from Vega mags to AB mags for each band\n",
    "AB_Vega = np.array([0.147,0.485,0.647,0.950,1.012,1.281,1.546]) #This is m_AB - m_Vega"
   ]
  },
  {
   "cell_type": "markdown",
   "metadata": {},
   "source": [
    "The following cell is where we define the function needed to compute the average luminosity, which is effectively the only cell which is different from the $f_{\\rm det}$ calculation. We provide an implementation first in Python and then in Cython."
   ]
  },
  {
   "cell_type": "code",
   "execution_count": 6,
   "metadata": {},
   "outputs": [],
   "source": [
    "def get_Lavg_python(B_mu, ms, xiofm):\n",
    "    fsum = 0\n",
    "    \n",
    "    for i in range(len(B_mu)-1):\n",
    "        fsum += (10**(B_mu[i]/-2.5)*xiofm[i] + 10**(B_mu[i+1]/-2.5)*xiofm[i+1])*(ms[i+1] - ms[i])/2.\n",
    "    return fsum"
   ]
  },
  {
   "cell_type": "code",
   "execution_count": 7,
   "metadata": {},
   "outputs": [],
   "source": [
    "%%cython\n",
    "# cython: boundscheck=False, wraparound=False, nonecheck=False, cdivision=True\n",
    "import numpy as np\n",
    "cimport numpy as np\n",
    "\n",
    "\n",
    "cimport cython\n",
    "\n",
    "cpdef double get_Lavg(const double[::1] B_mu, const double[::1] ms, \n",
    "                      const double[::1] xiofm, const int N):\n",
    "    cdef:\n",
    "        double fsum = 0\n",
    "        double aB,bB,aX,bX,mcross,xicross\n",
    "        int i\n",
    "    \n",
    "    for i in range(N-1):\n",
    "        fsum += (10**(B_mu[i]/-2.5)*xiofm[i] + 10**(B_mu[i+1]/-2.5)*xiofm[i+1])*(ms[i+1] - ms[i])/2.\n",
    "    return fsum"
   ]
  },
  {
   "cell_type": "code",
   "execution_count": 5,
   "metadata": {},
   "outputs": [
    {
     "name": "stdout",
     "output_type": "stream",
     "text": [
      "0.5\n",
      "0.25\n",
      "0.0\n",
      "-0.25\n",
      "-0.5\n",
      "-0.75\n",
      "-1.0\n",
      "-1.25\n",
      "-1.5\n",
      "-1.75\n",
      "-2.0\n",
      "-2.25\n",
      "-2.5\n",
      "-2.75\n",
      "-3.0\n",
      "-3.25\n",
      "CPU times: user 35.7 s, sys: 1.38 s, total: 37 s\n",
      "Wall time: 37.3 s\n"
     ]
    }
   ],
   "source": [
    "%%time\n",
    "# shape of the total output array\n",
    "totdat = np.zeros((nmet,nage,nfilts))\n",
    "for (l,met) in enumerate(metlist):\n",
    "    print(met)\n",
    "    if met>-0.1:\n",
    "        (age,imass,T,L) = np.loadtxt(\"%smist_fehp%1.2f.iso.cmd\"%(iso_dir,abs(met)),usecols=[1,2,4,6]).T\n",
    "        (R,Z,Y,J,W,H,F) = np.loadtxt(\"%smist_fehp%1.2f.iso.cmd\"%(iso_dir,abs(met)),usecols=[9,10,11,12,13,14,15]).T\n",
    "    else:\n",
    "        (age,imass,T,L) = np.loadtxt(\"%smist_fehm%1.2f.iso.cmd\"%(iso_dir,abs(met)),usecols=[1,2,4,6]).T\n",
    "        (R,Z,Y,J,W,H,F) = np.loadtxt(\"%smist_fehm%1.2f.iso.cmd\"%(iso_dir,abs(met)),usecols=[9,10,11,12,13,14,15]).T\n",
    "\n",
    "    (Rage,Zage,Yage,Jage,Wage,Hage,Fage) = (np.zeros(nage),np.zeros(nage),np.zeros(nage),np.zeros(nage),np.zeros(nage),np.zeros(nage),np.zeros(nage))\n",
    "    for (k,a) in enumerate(agelist):\n",
    "        sids = np.intersect1d(np.where(age>a-dage/2),np.where(age<a+dage/2))\n",
    "\n",
    "        # interpolate what the right magnitudes are\n",
    "        R_out = R[sids] + AB_Vega[0]\n",
    "        Z_out = Z[sids] + AB_Vega[1]\n",
    "        Y_out = Y[sids] + AB_Vega[2]\n",
    "        J_out = J[sids] + AB_Vega[3]\n",
    "        W_out = W[sids] + AB_Vega[4]\n",
    "        H_out = H[sids] + AB_Vega[5]\n",
    "        F_out = F[sids] + AB_Vega[6]\n",
    "        mass_sel = imass[sids]\n",
    "        xim = np.interp(imass[sids],mlin,xi)\n",
    "        Rage[k] = get_Lavg(R_out,mass_sel,xim,len(xim))\n",
    "        Zage[k] = get_Lavg(Z_out,mass_sel,xim,len(xim))\n",
    "        Yage[k] = get_Lavg(Y_out,mass_sel,xim,len(xim))\n",
    "        Jage[k] = get_Lavg(J_out,mass_sel,xim,len(xim))\n",
    "        Wage[k] = get_Lavg(W_out,mass_sel,xim,len(xim))\n",
    "        Hage[k] = get_Lavg(H_out,mass_sel,xim,len(xim))\n",
    "        Fage[k] = get_Lavg(F_out,mass_sel,xim,len(xim))\n",
    "\n",
    "    totdat[l] = np.array([Rage,Zage,Yage,Jage,Wage,Hage,Fage]).T\n",
    "np.save(output_name,totdat)"
   ]
  },
  {
   "cell_type": "code",
   "execution_count": null,
   "metadata": {},
   "outputs": [],
   "source": []
  }
 ],
 "metadata": {
  "kernelspec": {
   "display_name": "Python 3",
   "language": "python",
   "name": "python3"
  },
  "language_info": {
   "codemirror_mode": {
    "name": "ipython",
    "version": 3
   },
   "file_extension": ".py",
   "mimetype": "text/x-python",
   "name": "python",
   "nbconvert_exporter": "python",
   "pygments_lexer": "ipython3",
   "version": "3.6.3"
  }
 },
 "nbformat": 4,
 "nbformat_minor": 2
}
