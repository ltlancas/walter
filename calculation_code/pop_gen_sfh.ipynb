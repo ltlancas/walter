{
 "cells": [
  {
   "attachments": {},
   "cell_type": "markdown",
   "metadata": {},
   "source": [
    "# Sampling Calculation"
   ]
  },
  {
   "attachments": {},
   "cell_type": "markdown",
   "metadata": {},
   "source": [
    "Here we will sample the IMF to populate a given star formation history (SFH) and interpolate all of the created stars to the Roman Bands"
   ]
  },
  {
   "cell_type": "code",
   "execution_count": 1,
   "metadata": {},
   "outputs": [],
   "source": [
    "import numpy as np\n",
    "import matplotlib.pyplot as plt\n",
    "import time"
   ]
  },
  {
   "cell_type": "code",
   "execution_count": 2,
   "metadata": {},
   "outputs": [],
   "source": [
    "## a function for evaluating the IMF\n",
    "def xi_IMF(m, mpows, mcuts):\n",
    "    norm_sum = 0.0\n",
    "    norm_list = [1.0]\n",
    "    res_pdf = np.zeros(m.shape)\n",
    "    for i in range(len(mpows)):\n",
    "        mi = mcuts[i+1]\n",
    "        mim1 = mcuts[i]\n",
    "        ai = mpows[i]\n",
    "        norm_sum += norm_list[-1]*mim1*((mi/mim1)**(1+ai) - 1.)/(1+ai)\n",
    "        res_pdf += (m>mim1)*(m<mi)*norm_list[i]*(m/mim1)**ai\n",
    "        norm_list.append(norm_list[-1]*(mi/mim1)**ai)\n",
    "    norm = 1./norm_sum\n",
    "    res_pdf *= norm\n",
    "    return res_pdf\n",
    "\n",
    "\n",
    "\n",
    "## a function for calcaulating the cumulative \n",
    "## distribution function of the imf, for sampling\n",
    "def cdf_imf(m, mpows, mcuts):\n",
    "    res_cdf = np.zeros(m.shape)\n",
    "    norm_sum = 0.0\n",
    "    norm_list = [1.0]\n",
    "    for i in range(len(mpows)):\n",
    "        mi = mcuts[i+1]\n",
    "        mim1 = mcuts[i]\n",
    "        ai = mpows[i]\n",
    "        norm_sum += norm_list[-1]*mim1*((mi/mim1)**(1+ai) - 1.)/(1+ai)\n",
    "        # if greater than upper limit of integration range, add full integral\n",
    "        res_cdf += (m>mi)*norm_list[-1]*mim1*((mi/mim1)**(1+ai) - 1.)/(1+ai)\n",
    "        # if between lower and upper limit, add partial integral\n",
    "        res_cdf += (m>mim1)*(m<mi)*norm_list[-1]*mim1*((m/mim1)**(1+ai) - 1.)/(1+ai)\n",
    "        norm_list.append(norm_list[-1]*(mi/mim1)**ai)\n",
    "    norm = 1./norm_sum\n",
    "    res_cdf *= norm\n",
    "    return res_cdf\n",
    "\n",
    "# a function to calculate the average mass for a\n",
    "# broken powerlaw (bp) IMF\n",
    "def avg_m_bp(mpows, mcuts):\n",
    "    # mpows : list of powers len(mpows) = N\n",
    "    # mcuts : list of mass ranges len(mcuts) = N + 1\n",
    "    if (len(mcuts) != len(mpows) + 1):\n",
    "        print(\"Mismatch in length of powers and mass cuts provided to the IMF\")\n",
    "        assert(False)\n",
    "    mavg_sum = 0.0\n",
    "    norm_sum = 0.0\n",
    "    norm_list = [1.0]\n",
    "    for i in range(len(mpows)):\n",
    "        mi = mcuts[i+1]\n",
    "        mim1 = mcuts[i]\n",
    "        ai = mpows[i]\n",
    "        norm_sum += norm_list[-1]*mim1*((mi/mim1)**(1+ai) - 1.)/(1+ai)\n",
    "        # if greater than upper limit of integration range, add full integral\n",
    "        mavg_sum += norm_list[-1]*(mim1**2)*((mi/mim1)**(2+ai) - 1.)/(2+ai)\n",
    "        norm_list.append(norm_list[-1]*(mi/mim1)**ai)\n",
    "    norm = 1./norm_sum\n",
    "    mavg_sum *= norm\n",
    "    return mavg_sum    \n",
    "\n",
    "# function for sampling a distibution provided its one dimensional inverse CDF\n",
    "def cdf_samp(n, cdf_inv):\n",
    "    # function that samples a distribution\n",
    "    # n : number of samples to take\n",
    "    # cdf_inv : array giving the inverse of the cumulative distribution function (CDF)\n",
    "    #           of some probability distribution, assumes that this is sampled linearly\n",
    "    #           between one an zero\n",
    "    if(len(cdf_inv.shape)!=1):\n",
    "        print(\"Shape of CDF array is wrong, should be one dimensional\")\n",
    "    nsamp = np.random.random(n)\n",
    "    return np.interp(nsamp,np.linspace(0,1, cdf_inv.shape[0]), cdf_inv)\n",
    "\n",
    "# function to get about the right mass of stars\n",
    "def gen_mass_samp(Mtot, cdf_inv, mavg):\n",
    "    Nguess = int(1.1*Mtot/mavg)\n",
    "    msamp = cdf_samp(Nguess, cdf_inv)\n",
    "    return msamp[np.where(np.cumsum(msamp)< Mtot)]"
   ]
  },
  {
   "cell_type": "code",
   "execution_count": 3,
   "metadata": {},
   "outputs": [
    {
     "data": {
      "image/png": "[encoded data removed]",
      "text/plain": [
       "<Figure size 640x480 with 1 Axes>"
      ]
     },
     "metadata": {},
     "output_type": "display_data"
    }
   ],
   "source": [
    "powers = [-1.3,-2.3]\n",
    "massLimits = [0.08,0.5,120]\n",
    "\n",
    "mlin = np.logspace(np.log10(massLimits[0]),np.log10(massLimits[-1]),10000)\n",
    "\n",
    "plt.plot(mlin[1:], xi_IMF(mlin,powers,massLimits)[1:])\n",
    "plt.axvline(x=avg_m_bp(powers, massLimits))\n",
    "plt.yscale(\"log\")\n",
    "plt.xscale(\"log\")"
   ]
  },
  {
   "cell_type": "code",
   "execution_count": 4,
   "metadata": {},
   "outputs": [],
   "source": [
    "# First specify the properties of the populations you'd like to calculate f_detect for\n",
    "# by giving lists of metallicities and ages. These should be linearly spaced (in the log \n",
    "# space in which they are defined)\n",
    "metlist = np.array([0.5,0.25,0.0,-0.25,-0.5,-0.75,-1.0,-1.25,-1.5,-1.75,-2.0,-2.25,-2.5,-2.75,-3.,-3.25])\n",
    "agelist = np.array([8.95,9.,9.05,9.1,9.15,9.2,9.25,9.3,9.35,9.4,9.45,9.5,9.55,9.6,9.65,9.7,9.75,9.8,9.85,9.9,9.95,10.,10.05,10.1])\n",
    "nmet = len(metlist) # number of metallicities\n",
    "nage = len(agelist) # number of ages\n",
    "dage = agelist[1] - agelist[0] # logarithmic difference in age bins, for selection below\n",
    "\n",
    "## specify directory where isochrones are stored, this is set up for the \n",
    "## MIST Roman Isocrones, changing that would involve changing the below\n",
    "iso_dir = \"../../mist_isos/\"\n",
    "## name od output file\n",
    "output_name = \"../data/lum_mist\" # it will have a .npy at the end\n",
    "\n",
    "## define the IMF normalization\n",
    "## specify the power-law indices for the IMF that you would like to use\n",
    "## here we define a Kroupa IMF\n",
    "mpows = [-1.3,-2.3]\n",
    "mcuts = [0.08,0.5,120]\n",
    "assert(len(mpows)+1==len(mcuts))\n",
    "## specify the number of mass samples you would like for integrals of the IMF\n",
    "nmass_samp = 100000\n",
    "# mass range in solar masses\n",
    "(mMin,mMax) = (mcuts[0],mcuts[-1])\n",
    "# masses spaced linearly throughout imf space\n",
    "mlin = np.linspace(mMin,mMax,nmass_samp)\n",
    "# evaluate IMF\n",
    "xi = xi_IMF(mlin, mpows, mcuts)\n",
    "\n",
    "# get the properties of the IMF\n",
    "# average mass of IMF\n",
    "MAVG = avg_m_bp(mpows, mcuts)\n",
    "mlin = np.linspace(mcuts[0], mcuts[-1], 100000)\n",
    "CDF = cdf_imf(mlin, mpows, mcuts)[1:-1]\n",
    "CDF = np.concatenate((np.array([0]),CDF,np.array([1.0])))\n",
    "plin = np.linspace(0, 1, 100000)\n",
    "CDF_INV = np.interp(plin, CDF, mlin)\n",
    "\n",
    "\n",
    "# specify the number of filters. The default is 7 (R,Z,Y,J,W,H,F). Changing this \n",
    "# number will require some hard code changes below\n",
    "nfilts = 7\n",
    "# conversion from Vega mags to AB mags for each band\n",
    "AB_Vega = np.array([0.147,0.485,0.647,0.950,1.012,1.281,1.546]) #This is m_AB - m_Vega"
   ]
  },
  {
   "cell_type": "code",
   "execution_count": 5,
   "metadata": {},
   "outputs": [
    {
     "data": {
      "text/plain": [
       "(24, 16)"
      ]
     },
     "execution_count": 5,
     "metadata": {},
     "output_type": "execute_result"
    }
   ],
   "source": [
    "nage, nmet"
   ]
  },
  {
   "cell_type": "code",
   "execution_count": 32,
   "metadata": {},
   "outputs": [
    {
     "data": {
      "text/plain": [
       "<matplotlib.colorbar.Colorbar at 0x117ea54f0>"
      ]
     },
     "execution_count": 32,
     "metadata": {},
     "output_type": "execute_result"
    },
    {
     "data": {
      "image/png": "[encoded data removed]",
      "text/plain": [
       "<Figure size 640x480 with 2 Axes>"
      ]
     },
     "metadata": {},
     "output_type": "display_data"
    }
   ],
   "source": [
    "# specify star formation history \n",
    "# sfh[i][j] is mass formed at agelist[i] with metallicity metlist[j]\n",
    "sfh = np.zeros((nage,nmet))\n",
    "age_grid = np.array([agelist for i in range(nmet)]).T\n",
    "met_grid = np.array([metlist for i in range(nage)])\n",
    "\n",
    "# specifying the SFH in terms of gaussian distributions \n",
    "(met0,met_spread) = (-1.5,0.3)\n",
    "(age0,age_spread) = (9.5,0.2)\n",
    "sfh = np.exp(-1*((met_grid-met0)/met_spread)**2)*np.exp(-1*((age_grid-age0)/age_spread)**2)\n",
    "sfh /= np.sum(sfh)\n",
    "sfh *= 1e6\n",
    "\n",
    "plt.imshow(np.log10(sfh)[::-1,:], extent=(metlist[0],metlist[-1],agelist[0],agelist[-1]), vmin =1)\n",
    "#plt.imshow(age_grid[::-1,:], extent=(10,20,agelist[0],agelist[-1]))\n",
    "#plt.imshow(met_grid[::-1,:], extent=(metlist[0],metlist[-1],agelist[0],agelist[-1]))\n",
    "plt.colorbar()"
   ]
  },
  {
   "cell_type": "code",
   "execution_count": 33,
   "metadata": {},
   "outputs": [
    {
     "name": "stdout",
     "output_type": "stream",
     "text": [
      "0.5\n",
      "0.25\n",
      "0.0\n",
      "-0.25\n",
      "-0.5\n",
      "-0.75\n",
      "-1.0\n",
      "-1.25\n",
      "-1.5\n",
      "-1.75\n",
      "-2.0\n",
      "-2.25\n",
      "-2.5\n",
      "-2.75\n",
      "-3.0\n",
      "-3.25\n"
     ]
    }
   ],
   "source": [
    "out_data= np.array([np.zeros(nfilts)])\n",
    "\n",
    "# shape of the total output array\n",
    "totdat = np.zeros((nmet,nage,nfilts))\n",
    "for (l,met) in enumerate(metlist):\n",
    "    print(met)\n",
    "    if met>-0.1:\n",
    "        (age,imass,T,L) = np.loadtxt(\"%smist_fehp%1.2f.iso.cmd\"%(iso_dir,abs(met)),usecols=[1,2,4,6]).T\n",
    "        (R,Z,Y,J,W,H,F) = np.loadtxt(\"%smist_fehp%1.2f.iso.cmd\"%(iso_dir,abs(met)),usecols=[9,10,11,12,13,14,15]).T\n",
    "    else:\n",
    "        (age,imass,T,L) = np.loadtxt(\"%smist_fehm%1.2f.iso.cmd\"%(iso_dir,abs(met)),usecols=[1,2,4,6]).T\n",
    "        (R,Z,Y,J,W,H,F) = np.loadtxt(\"%smist_fehm%1.2f.iso.cmd\"%(iso_dir,abs(met)),usecols=[9,10,11,12,13,14,15]).T\n",
    "\n",
    "    (Rage,Zage,Yage,Jage,Wage,Hage,Fage) = (np.zeros(nage),np.zeros(nage),np.zeros(nage),np.zeros(nage),np.zeros(nage),np.zeros(nage),np.zeros(nage))\n",
    "    for (k,a) in enumerate(agelist):\n",
    "        sids = np.intersect1d(np.where(age>a-dage/2),np.where(age<a+dage/2))\n",
    "\n",
    "        mtot = sfh[k][l]\n",
    "        msi = gen_mass_samp(mtot, CDF_INV, MAVG)\n",
    "        \n",
    "        # interpolate what the right magnitudes are\n",
    "        R_out = R[sids] + AB_Vega[0]\n",
    "        Z_out = Z[sids] + AB_Vega[1]\n",
    "        Y_out = Y[sids] + AB_Vega[2]\n",
    "        J_out = J[sids] + AB_Vega[3]\n",
    "        W_out = W[sids] + AB_Vega[4]\n",
    "        H_out = H[sids] + AB_Vega[5]\n",
    "        F_out = F[sids] + AB_Vega[6]\n",
    "        \n",
    "        Ri = np.interp(msi, imass[sids], R_out, left = -1000, right= -1000)\n",
    "        Zi = np.interp(msi, imass[sids], Z_out, left = -1000, right= -1000)\n",
    "        Yi = np.interp(msi, imass[sids], Y_out, left = -1000, right= -1000)\n",
    "        Ji = np.interp(msi, imass[sids], J_out, left = -1000, right= -1000)\n",
    "        Wi = np.interp(msi, imass[sids], W_out, left = -1000, right= -1000)\n",
    "        Hi = np.interp(msi, imass[sids], H_out, left = -1000, right= -1000)\n",
    "        Fi = np.interp(msi, imass[sids], F_out, left = -1000, right= -1000)\n",
    "\n",
    "        out_datai = np.array([Ri, Zi, Yi, Ji, Wi, Hi, Fi]).T\n",
    "        out_data = np.concatenate((out_data,out_datai))"
   ]
  },
  {
   "cell_type": "code",
   "execution_count": 34,
   "metadata": {},
   "outputs": [],
   "source": [
    "Rdata = out_data.T[0][1:]\n",
    "Rdata = Rdata[np.where(Rdata>-999)]\n",
    "\n",
    "Jdata = out_data.T[3][1:]\n",
    "Jdata = Jdata[np.where(Jdata>-999)]\n",
    "\n",
    "Hdata = out_data.T[5][1:]\n",
    "Hdata = Hdata[np.where(Hdata>-999)]"
   ]
  },
  {
   "cell_type": "code",
   "execution_count": 38,
   "metadata": {},
   "outputs": [
    {
     "data": {
      "text/plain": [
       "Text(0, 0.5, '$R$')"
      ]
     },
     "execution_count": 38,
     "metadata": {},
     "output_type": "execute_result"
    },
    {
     "data": {
      "image/png": "[encoded data removed]",
      "text/plain": [
       "<Figure size 640x480 with 1 Axes>"
      ]
     },
     "metadata": {},
     "output_type": "display_data"
    }
   ],
   "source": [
    "plt.scatter(Jdata-Hdata, Rdata, s=0.5, lw=0,alpha=0.5)\n",
    "\n",
    "plt.xlim(-0.5, 0.5)\n",
    "plt.ylim(13,-5)\n",
    "plt.xlabel(r\"$J- H$\")\n",
    "plt.ylabel(r\"$R$\")"
   ]
  },
  {
   "cell_type": "code",
   "execution_count": null,
   "metadata": {},
   "outputs": [],
   "source": []
  }
 ],
 "metadata": {
  "kernelspec": {
   "display_name": "Python 3",
   "language": "python",
   "name": "python3"
  },
  "language_info": {
   "codemirror_mode": {
    "name": "ipython",
    "version": 3
   },
   "file_extension": ".py",
   "mimetype": "text/x-python",
   "name": "python",
   "nbconvert_exporter": "python",
   "pygments_lexer": "ipython3",
   "version": "3.9.6"
  }
 },
 "nbformat": 4,
 "nbformat_minor": 2
}
