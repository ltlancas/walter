{
 "cells": [
  {
   "cell_type": "markdown",
   "metadata": {},
   "source": [
    "# Calculating the Absolute Magnitude of a Population Feature"
   ]
  },
  {
   "cell_type": "markdown",
   "metadata": {},
   "source": [
    "This is a notebook that calculates the absolute magnitude of a population feature using the MIST isochrones. These pre-calculated Magnitudes will then be used in the `time_to_feature.ipynb` notebook in the main directroy to calculate the exposure time required to reach a given feature for a given observation (distance to the population, its metallicity, its age, etc.)."
   ]
  },
  {
   "cell_type": "code",
   "execution_count": 1,
   "metadata": {},
   "outputs": [],
   "source": [
    "# all we need is numpy, matplotlib\n",
    "import numpy as np\n",
    "import matplotlib.pyplot as plt"
   ]
  },
  {
   "cell_type": "code",
   "execution_count": 2,
   "metadata": {},
   "outputs": [],
   "source": [
    "# These are just preferences for making plots\n",
    "# If you are getting errors from matplotlib, feel free to comment this out\n",
    "plt.rc('font', **{'size': 8, 'sans-serif': ['Helvetica'], 'family': 'sans-serif'})\n",
    "plt.rc('legend',**{'fontsize':6})                                             \n",
    "plt.rc(\"text.latex\", preamble=[\n",
    "    \"\\\\usepackage[T1]{fontenc}\\\\usepackage{amsmath}\"])\n",
    "plt.rc(\"text\", usetex=True)\n",
    "plt.rc('ps', usedistiller='xpdf')\n",
    "plt.rc('savefig', **{'dpi': 300})"
   ]
  },
  {
   "cell_type": "markdown",
   "metadata": {},
   "source": [
    "Like the other notebooks, we begin by defining a lot of the same variables."
   ]
  },
  {
   "cell_type": "code",
   "execution_count": 3,
   "metadata": {},
   "outputs": [],
   "source": [
    "# First setting the range of metallicities and ages that are covered, these are our default values\n",
    "metlist = np.array([0.5,0.25,0.0,-0.25,-0.5,-0.75,-1.0,-1.25,-1.5,-1.75,-2.0,-2.25,-2.5,-2.75,-3.,-3.25])\n",
    "agelist = np.array([8.95,9.,9.05,9.1,9.15,9.2,9.25,9.3,9.35,9.4,9.45,9.5,9.55,9.6,9.65,9.7,9.75,9.8,9.85,9.9,9.95,10.,10.05,10.1])\n",
    "nmet  = len(metlist)\n",
    "nage  = len(agelist)\n",
    "\n",
    "# for MIST\n",
    "nfilt = 7\n",
    "filter_names = np.array([r\"$F062$\",r\"$F087$\",r\"$F106$\",r\"$F129$\",r\"$F146$\",r\"$F158$\",r\"$F184$\"])\n",
    "# filter indexes to be used below\n",
    "filter_index_dict = {\"F062\":9,\"F087\":10,\"F106\":11,\"F129\":12,\"F146\":13,\"F158\":14,\"F184\":15}\n",
    "# 5-sigma point source detection limit for 10^3 sec exposure in each band\n",
    "ps_detect_5slim = np.array([27.8, 27.5, 27.4, 27.3, 27.6, 27.3, 26.8])\n",
    "path_to_isos = \"../../mist_isos\""
   ]
  },
  {
   "cell_type": "markdown",
   "metadata": {},
   "source": [
    "We first will define a function that will tell us the brightest object in a given Equivalent Evolutionary Phase (EEP). This is a term used by the MIST Isochrone team to determine a certain phase of stellar evolution, so here we are only using the MIST Isochrones. Unlike our other notebooks, in order to use this function you will have needed to download the MIST Isochrones and put them in `iso_path` which will be given to the function below so that it can load the isochrones. You should make sure that the naming of your isochrone files follows the convention of the files in the function written below and that you have downloaded the isochrones for the same range of ages and metallicities that we use here."
   ]
  },
  {
   "cell_type": "code",
   "execution_count": 4,
   "metadata": {},
   "outputs": [],
   "source": [
    "# This is a function to determine the brightest absolute magnitude\n",
    "# in a given population feature, determined by the ranges in EEP \n",
    "# that are provided, and a given filter, determined by the \n",
    "# filter_index variable. This function determines this magnitude for\n",
    "# each metallicity and age in the mlist and alist provided.\n",
    "# iso_path tells the function where your isochrones are\n",
    "def get_absM(mlist,alist,filter_indices,eep_low,eep_high,iso_path):\n",
    "    outM = np.zeros((mlist.shape[0],alist.shape[0],len(filter_indices)))\n",
    "    for (i,met) in enumerate(mlist):\n",
    "        if met>-0.1:\n",
    "            (eep,age,imass,T,L) = np.loadtxt(\"%s/mist_fehp%1.2f.iso.cmd\"%(iso_path,abs(met)),usecols=[0,1,2,4,6]).T\n",
    "            M = np.loadtxt(\"%s/mist_fehp%1.2f.iso.cmd\"%(iso_path,abs(met)),usecols=filter_indices).T\n",
    "        else:\n",
    "            (eep,age,imass,T,L) = np.loadtxt(\"%s/mist_fehm%1.2f.iso.cmd\"%(iso_path,abs(met)),usecols=[0,1,2,4,6]).T\n",
    "            M = np.loadtxt(\"%s/mist_fehm%1.2f.iso.cmd\"%(iso_path,abs(met)),usecols=filter_indices).T\n",
    "\n",
    "        for (j,a) in enumerate(alist):\n",
    "\n",
    "            sids = np.intersect1d(np.where(age>a-0.01),np.where(age<a+0.01))\n",
    "            feature_ids = np.intersect1d(sids,np.where(np.logical_and(eep>=eep_low,eep<=eep_high)))\n",
    "            \n",
    "            for k in range(len(filter_indices)):\n",
    "                # need to make sure that this feature is actually \n",
    "                # apparent at this age and metallicity\n",
    "                if len(feature_ids)>0:\n",
    "                    outM[i][j][k] = min(M[k][feature_ids])\n",
    "                else:\n",
    "                    outM[i][j][k] = -1000\n",
    "    return(outM)"
   ]
  },
  {
   "cell_type": "markdown",
   "metadata": {},
   "source": [
    "We can apply this function to get, for example, the absolute magnitude of the TRGB over a range of metallicities and ages. In our work, we define the TRGB as $560 \\leq {\\rm EEP}\\leq 580$. Note the use of the pre-defined (above) index dictionary for a given filter. This dictionary may change based on what filters you selected when downloading the MIST isochrones, keep this in mind. Your `path_to_isos` variable should also not necessarily be the same as mine, set above.\n",
    "\n",
    "Here we will get the absolute magnitude of the TRGB in the $F158$ band."
   ]
  },
  {
   "cell_type": "code",
   "execution_count": 5,
   "metadata": {},
   "outputs": [],
   "source": [
    "find = [9,10,11,12,13,14,15]\n",
    "msto_mags = get_absM(metlist,agelist,find,1,495,path_to_isos)\n",
    "trgb_mags = get_absM(metlist,agelist,find,560,580,path_to_isos)\n",
    "hb_mags = get_absM(metlist,agelist,find,630,640,path_to_isos)"
   ]
  },
  {
   "cell_type": "code",
   "execution_count": 6,
   "metadata": {},
   "outputs": [],
   "source": [
    "np.save(\"../data/msto_mags\",msto_mags)\n",
    "np.save(\"../data/hb_mags\",hb_mags)\n",
    "np.save(\"../data/trgb_mags\",trgb_mags)"
   ]
  },
  {
   "cell_type": "code",
   "execution_count": null,
   "metadata": {},
   "outputs": [],
   "source": []
  }
 ],
 "metadata": {
  "kernelspec": {
   "display_name": "Python 3",
   "language": "python",
   "name": "python3"
  },
  "language_info": {
   "codemirror_mode": {
    "name": "ipython",
    "version": 3
   },
   "file_extension": ".py",
   "mimetype": "text/x-python",
   "name": "python",
   "nbconvert_exporter": "python",
   "pygments_lexer": "ipython3",
   "version": "3.6.3"
  }
 },
 "nbformat": 4,
 "nbformat_minor": 2
}
